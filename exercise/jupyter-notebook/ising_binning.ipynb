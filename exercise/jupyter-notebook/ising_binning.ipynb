{
 "cells": [
  {
   "cell_type": "code",
   "execution_count": null,
   "id": "a8c22746",
   "metadata": {},
   "outputs": [],
   "source": [
    "import numpy as np\n",
    "import matplotlib.pyplot as plt"
   ]
  },
  {
   "cell_type": "code",
   "execution_count": null,
   "id": "3be947ec",
   "metadata": {},
   "outputs": [],
   "source": [
    "# Parameters\n",
    "L = 8  # Lattice size\n",
    "N = L**2  # Number of spins\n",
    "T_c = 2 / np.log(1+np.sqrt(2))  # Critical temperature = 2.269185314213...\n",
    "steps = 2**13  # Number of Monte Carlo steps\n",
    "n_simulations = 10\n",
    "burn_in = steps // 2"
   ]
  },
  {
   "cell_type": "code",
   "execution_count": null,
   "id": "b4ffbd60",
   "metadata": {},
   "outputs": [],
   "source": [
    "variances = []\n",
    "for sim in range(n_simulations):\n",
    "    spins = np.random.choice([-1, 1], size=(L, L))  # Initial lattice\n",
    "\n",
    "    def delta_E(spins, x, y):\n",
    "        # Calculate the energy change for flipping a spin at (x, y).\n",
    "        spin = spins[x, y]\n",
    "        neighbors = spins[(x-1)%L, y] + spins[(x+1)%L, y] + \\\n",
    "                    spins[x, (y-1)%L] + spins[x, (y+1)%L]\n",
    "        return 2 * spin * neighbors\n",
    "\n",
    "    def Metropolis(spins, T):\n",
    "        # Perform one sweep of Metropolis updates.\n",
    "        for x in range(L):\n",
    "            for y in range(L):\n",
    "                dE = delta_E(spins, x, y)\n",
    "                if dE < 0 or np.random.rand() < np.exp(-dE / T):\n",
    "                    spins[x, y] *= -1\n",
    "\n",
    "    def magnetization(spins):\n",
    "        # Calculate the magnetization of the lattice.\n",
    "        return np.sum(spins) / N\n",
    "\n",
    "    # Main simulation\n",
    "    mag2 = []\n",
    "    for step in range(steps):\n",
    "        Metropolis(spins, T_c)\n",
    "        if step >= burn_in:\n",
    "            mag = magnetization(spins)\n",
    "            mag2.append(mag**2)\n",
    "\n",
    "    # Binning analysis\n",
    "    def binning_analysis(data):\n",
    "        nsamples = len(data)\n",
    "        bin_sizes = 2**np.arange(int(np.log2(nsamples/2)))\n",
    "        vars = []\n",
    "        data_array = np.array(data)\n",
    "        for bin_size in bin_sizes:\n",
    "            binned_data = np.mean(data_array[:nsamples//bin_size*bin_size].reshape(-1, bin_size), axis=1)\n",
    "            vars.append(np.var(binned_data) * bin_size / nsamples)\n",
    "        return bin_sizes, vars\n",
    "\n",
    "    bin_sizes, vars = binning_analysis(mag2)\n",
    "    variances.append(vars)"
   ]
  },
  {
   "cell_type": "code",
   "execution_count": null,
   "id": "4d90a3f9",
   "metadata": {},
   "outputs": [],
   "source": [
    "# Average variances\n",
    "variances = np.array(variances).reshape(n_simulations, -1)\n",
    "var_ave = np.mean(variances, axis=0)\n",
    "var_std = np.std(variances, axis=0, ddof=1)"
   ]
  },
  {
   "cell_type": "code",
   "execution_count": null,
   "id": "0a9ff89f",
   "metadata": {},
   "outputs": [],
   "source": [
    "# Plot results\n",
    "plt.title('Number of samples = '+str(steps - burn_in)+',  Number of simulations = '+str(n_simulations))\n",
    "plt.xlabel('Bin size')\n",
    "plt.ylabel(r'$(\\sigma^{(n)})^2 / (\\sigma^{(1)})^2$')\n",
    "plt.xscale('log')\n",
    "plt.errorbar(bin_sizes, var_ave/var_ave[0], yerr=var_std/var_ave[0], fmt='o-', color='r', label='Average')\n",
    "n_plots = 2\n",
    "for plot_i in range(n_plots):\n",
    "    plt.plot(bin_sizes, variances[plot_i]/variances[plot_i,0], 'x-', label='Sample '+str(plot_i))\n",
    "plt.legend(loc=2)\n",
    "plt.show()"
   ]
  }
 ],
 "metadata": {
  "jupytext": {
   "cell_metadata_filter": "-all",
   "main_language": "python",
   "notebook_metadata_filter": "-all"
  }
 },
 "nbformat": 4,
 "nbformat_minor": 5
}
