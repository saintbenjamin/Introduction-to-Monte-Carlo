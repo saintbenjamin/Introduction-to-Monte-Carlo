{
 "cells": [
  {
   "cell_type": "code",
   "execution_count": null,
   "id": "be2d79f0",
   "metadata": {
    "lines_to_next_cell": 1
   },
   "outputs": [],
   "source": [
    "import random\n",
    "import numpy as np\n",
    "from scipy.special import gamma"
   ]
  },
  {
   "cell_type": "code",
   "execution_count": null,
   "id": "c45d3477",
   "metadata": {
    "lines_to_next_cell": 1
   },
   "outputs": [],
   "source": [
    "def generate_random_vector(dimensions):\n",
    "    return [random.uniform(-1, 1) for _ in range(dimensions)]"
   ]
  },
  {
   "cell_type": "code",
   "execution_count": null,
   "id": "38659041",
   "metadata": {
    "lines_to_next_cell": 1
   },
   "outputs": [],
   "source": [
    "def estimate_pi(dim, num_samples):\n",
    "    points_inside_circle = 0\n",
    "    for _ in range(num_samples):\n",
    "        x_vec = generate_random_vector(dim)\n",
    "        norm = sum(x**2 for x in x_vec)\n",
    "        if norm <= 1:\n",
    "            points_inside_circle += 1\n",
    "    return np.power(gamma(dim/2+1) * np.power(2, dim) * points_inside_circle / num_samples, 2/dim)"
   ]
  },
  {
   "cell_type": "code",
   "execution_count": null,
   "id": "69a3883c",
   "metadata": {},
   "outputs": [],
   "source": [
    "# Estimate pi\n",
    "num_samples = 10 ** 6\n",
    "print(f'Number of samples: {num_samples}')\n",
    "dims = [2,4,6,8,10,12,14,16,18,20,22]\n",
    "for d in dims:\n",
    "    pi_estimate = estimate_pi(d, num_samples)\n",
    "    error = abs(np.pi - pi_estimate)\n",
    "    print(f'Dimension: {d}, Estimated Pi: {pi_estimate}, Absolute Error: {error}')"
   ]
  }
 ],
 "metadata": {
  "jupytext": {
   "cell_metadata_filter": "-all",
   "main_language": "python",
   "notebook_metadata_filter": "-all"
  }
 },
 "nbformat": 4,
 "nbformat_minor": 5
}
