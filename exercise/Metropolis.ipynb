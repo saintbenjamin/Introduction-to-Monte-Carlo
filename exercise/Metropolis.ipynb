{
 "cells": [
  {
   "cell_type": "code",
   "execution_count": null,
   "id": "6718af1d",
   "metadata": {},
   "outputs": [],
   "source": [
    "import numpy as np\n",
    "import matplotlib.pyplot as plt\n",
    "import matplotlib.animation as animation\n",
    "from matplotlib.patches import Ellipse"
   ]
  },
  {
   "cell_type": "code",
   "execution_count": null,
   "id": "e1be8f69",
   "metadata": {
    "lines_to_next_cell": 1
   },
   "outputs": [],
   "source": [
    "# Parameters\n",
    "sigma1, sigma2 = 1.0, 10.0\n",
    "std_dev = np.array([0.5, 0.5])\n",
    "steps = 2 ** 15\n",
    "n_bins = 8\n",
    "initial_sample = np.array([0.0, 0.0])"
   ]
  },
  {
   "cell_type": "code",
   "execution_count": null,
   "id": "05b8281c",
   "metadata": {
    "lines_to_next_cell": 1
   },
   "outputs": [],
   "source": [
    "def target_density(x):\n",
    "    # Target density: a bivariate normal distribution.\n",
    "    # normalization = 2 * np.pi * sigma1 * sigma2\n",
    "    return np.exp(-(x[0] - x[1])**2 / (2*sigma1**2) - (x[0] + x[1])**2 / (2*sigma2**2))"
   ]
  },
  {
   "cell_type": "code",
   "execution_count": null,
   "id": "24029257",
   "metadata": {
    "lines_to_next_cell": 1
   },
   "outputs": [],
   "source": [
    "def MetropolisHastings(target_density, initial_sample, steps, n_bins, std_dev, obs1, obs2):\n",
    "    samples = np.zeros((steps, 2))\n",
    "    samples[0] = initial_sample\n",
    "    burn_in = steps // 2\n",
    "    bin_size = max((steps - burn_in) // n_bins, 1)\n",
    "    o1 = 0\n",
    "    o2 = 0\n",
    "    n_samp = 0\n",
    "    for i in range(1, steps):\n",
    "        current_sample = samples[i-1]\n",
    "        candidate_sample = np.random.normal(loc=current_sample, scale=std_dev)\n",
    "        acceptance_prob = target_density(candidate_sample) / target_density(current_sample)\n",
    "        if np.random.rand() < acceptance_prob:\n",
    "            samples[i] = candidate_sample\n",
    "        else:\n",
    "            samples[i] = current_sample\n",
    "\n",
    "        # Measurement\n",
    "        if i >= burn_in:        \n",
    "            _sum = sum(samples[i])\n",
    "            o1 += _sum\n",
    "            o2 += _sum ** 2\n",
    "            n_samp += 1\n",
    "            if n_samp == bin_size:\n",
    "                obs1.append(o1/bin_size)\n",
    "                obs2.append(o2/bin_size)\n",
    "                o1 = 0\n",
    "                o2 = 0\n",
    "                n_samp = 0\n",
    "\n",
    "    return samples"
   ]
  },
  {
   "cell_type": "code",
   "execution_count": null,
   "id": "7f7e9677",
   "metadata": {},
   "outputs": [],
   "source": [
    "# Sample\n",
    "obs1, obs2 = [], []\n",
    "samples = MetropolisHastings(target_density=target_density, initial_sample=initial_sample, steps=steps, n_bins=n_bins, std_dev=std_dev, obs1=obs1, obs2=obs2)"
   ]
  },
  {
   "cell_type": "code",
   "execution_count": null,
   "id": "646ac345",
   "metadata": {},
   "outputs": [],
   "source": [
    "# Observables\n",
    "mu1, std1 = np.mean(obs1), np.std(obs1, ddof=1) / np.sqrt(len(obs1))\n",
    "mu2, std2 = np.mean(obs2), np.std(obs2, ddof=1) / np.sqrt(len(obs2))\n",
    "print(f'(x_1 + x_2): Sample mean: {mu1}, Sample standard deviation: {std1}')\n",
    "print(f'(x_1 + x_2)^2: Sample mean: {mu2}, Sample standard deviation: {std2}')"
   ]
  },
  {
   "cell_type": "code",
   "execution_count": null,
   "id": "3d023a1c",
   "metadata": {
    "lines_to_next_cell": 1
   },
   "outputs": [],
   "source": [
    "# Set up the figure for animation\n",
    "fig, ax = plt.subplots()\n",
    "xlim = 1.5 * sigma2\n",
    "ax.set_xlim([-xlim, xlim])\n",
    "ax.set_ylim([-xlim, xlim])\n",
    "ax.set_title('Metropolis-Hastings algorithm')\n",
    "ax.set_xlabel('$x_1$')\n",
    "ax.set_ylabel('$x_2$')\n",
    "line, = ax.plot([], [], lw=1)\n",
    "scatter = ax.scatter([], [], s=1)"
   ]
  },
  {
   "cell_type": "code",
   "execution_count": null,
   "id": "3c70a880",
   "metadata": {
    "lines_to_next_cell": 1
   },
   "outputs": [],
   "source": [
    "# Initialization for the animation\n",
    "def init():\n",
    "    line.set_data([], [])\n",
    "    scatter.set_offsets(np.empty((0, 2)))\n",
    "    return line, scatter,"
   ]
  },
  {
   "cell_type": "code",
   "execution_count": null,
   "id": "18c5ab85",
   "metadata": {
    "lines_to_next_cell": 1
   },
   "outputs": [],
   "source": [
    "# Update function for the animation that includes a line connecting the plots\n",
    "def update_line(i, samples, line, scatter):\n",
    "    line.set_data(samples[:i+1, 0], samples[:i+1, 1])\n",
    "    scatter.set_offsets(samples[:i+1])\n",
    "    return line, scatter,"
   ]
  },
  {
   "cell_type": "code",
   "execution_count": null,
   "id": "bcf9d73a",
   "metadata": {},
   "outputs": [],
   "source": [
    "# Two-sigma line\n",
    "ellipse = Ellipse(xy=(0, 0), width=2*np.sqrt(2)*sigma2, height=2*np.sqrt(2)*sigma1, angle=45, edgecolor='k', fc='None', lw=2)\n",
    "ax.add_patch(ellipse)\n",
    "# Setting the aspect ratio to 'equal' so the ellipse isn't distorted\n",
    "ax.set_aspect('equal')"
   ]
  },
  {
   "cell_type": "code",
   "execution_count": null,
   "id": "a27f8b0c",
   "metadata": {},
   "outputs": [],
   "source": [
    "# Display the plot\n",
    "plt.grid(True)\n",
    "# Create the animation\n",
    "ani = animation.FuncAnimation(fig, update_line, init_func=init, frames=steps, fargs=(samples, line, scatter), interval=20, blit=True)\n",
    "# ani.save('animation.gif', writer='imagemagick', fps=60)\n",
    "plt.show()"
   ]
  }
 ],
 "metadata": {
  "jupytext": {
   "cell_metadata_filter": "-all",
   "main_language": "python",
   "notebook_metadata_filter": "-all"
  }
 },
 "nbformat": 4,
 "nbformat_minor": 5
}
